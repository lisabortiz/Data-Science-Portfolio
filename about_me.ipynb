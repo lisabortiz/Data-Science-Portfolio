{
  "nbformat": 4,
  "nbformat_minor": 0,
  "metadata": {
    "colab": {
      "provenance": [],
      "toc_visible": true,
      "include_colab_link": true
    },
    "kernelspec": {
      "name": "python3",
      "display_name": "Python 3"
    },
    "language_info": {
      "name": "python"
    }
  },
  "cells": [
    {
      "cell_type": "markdown",
      "metadata": {
        "id": "view-in-github",
        "colab_type": "text"
      },
      "source": [
        "<a href=\"https://colab.research.google.com/github/lisabortiz/Data-Science-Portfolio/blob/main/about_me.ipynb\" target=\"_parent\"><img src=\"https://colab.research.google.com/assets/colab-badge.svg\" alt=\"Open In Colab\"/></a>"
      ]
    },
    {
      "cell_type": "markdown",
      "source": [
        "# About Me  \n",
        "\n",
        "My name is Lisa Ortiz.  Deep Dive Data Science bootcamp is a creative crash course of Python, Statistics, and collaborative digital tools.  I hope to learn how to use this knowledge for NERIS Fire Data.  \n",
        "\n",
        "## If you had your human body, but the head of an animal, what animal would you pick?\n",
        "**Penguin (Head)** + *Lisa (body)*\n",
        "\n",
        "## If you had to delete all but 3 apps from your smartphone, which ones would you keep?\n",
        "\n",
        "3 Essential Phone Applications\n",
        "  - Google Maps\n",
        "  - Signal\n",
        "  - Youtube\n",
        "\n",
        "## What are your favorite podcasts? (Or if you're not a podcast person share your favorite tv show, music, or other category.)\n",
        "\n",
        "1. Huberman Lab\n",
        "1. The Haz Mat Guys\n",
        "1. Freakonomics Radio\n",
        "\n",
        "## What Sports or Hobbies do you enjoy?\n",
        "**Hobbies**\n",
        "\n",
        "   Hiking\n",
        "> It provides humbling methods of seeing rarely viewed world\n",
        "\n",
        "  Fishing\n",
        "> Connection to nature\n",
        "\n",
        "   HAM Radio\n",
        "> Disconnect while connecting\n",
        "\n",
        "\n",
        "## References\n",
        "|Website || Link|\n",
        " - | :-: | -\n",
        "|github || https://github.com/lisabortiz|\n",
        "|Linkedin || https://www.linkedin.com/in/lisa-ortiz-9a227836b/|\n"
      ],
      "metadata": {
        "id": "2MVo3-LvQxZF"
      }
    }
  ]
}